{
 "cells": [
  {
   "cell_type": "markdown",
   "source": [
    "## Import Libraries"
   ],
   "metadata": {
    "collapsed": false
   }
  },
  {
   "cell_type": "code",
   "execution_count": null,
   "outputs": [],
   "source": [
    "import os\n",
    "import glob\n",
    "\n",
    "import numpy as np\n",
    "import pandas as pd\n",
    "import matplotlib.pyplot as plt\n",
    "import datetime as dt\n",
    "import scipy\n",
    "import h5py\n",
    "\n",
    "from scipy.linalg import hankel\n",
    "import itertools\n",
    "import pingouin as pg\n",
    "import seaborn as sns\n",
    "\n",
    "\n",
    "\n",
    "%matplotlib inline\n",
    "pd.options.mode.chained_assignment = None  # default='warn'\n"
   ],
   "metadata": {
    "collapsed": false
   }
  },
  {
   "cell_type": "markdown",
   "source": [
    "## PC-Algorithm function"
   ],
   "metadata": {
    "collapsed": false
   }
  },
  {
   "cell_type": "code",
   "execution_count": null,
   "outputs": [],
   "source": [
    "def pc_algorithm(X, var_names, lag_zero=True, include_lagged_target=False, include_lagged_source=False,\n",
    "                 corr_method='spearman'):\n",
    "    \"\"\"\n",
    "    Run the PC algorithm for causal discovery.\n",
    "\n",
    "    Parameters:\\n\n",
    "    - X (numpy.ndarray): The data matrix with samples in rows and variables in columns.\n",
    "    - var_names (list): List of variable names corresponding to the columns of X.\n",
    "    - lag_zero (bool, optional): Whether to include lag-0 correlations. Default is True.\n",
    "    - include_lagged_target (bool, optional): Whether to include lagged target variables in conditioning set. Default is False.\n",
    "    - include_lagged_source (bool, optional): Whether to include lagged source variables in conditioning set. Default is False.\n",
    "    - corr_method (str, optional): The method for computing correlations. Default is 'spearman'.\n",
    "\n",
    "    Returns:\\n\n",
    "    - The resulting adjacency matrix of the PC algorithm, values represent strength of links.\n",
    "    \"\"\"\n",
    "    #Hyper-parameters\n",
    "    tau_max = 2\n",
    "    a = 0.05\n",
    "\n",
    "    #Size of input data\n",
    "    v = X.shape[1]  #number of variables\n",
    "    n = X.shape[0]  #length of time series\n",
    "\n",
    "    #Pre-allocation of Adj-matrix\n",
    "    linear_index = list(np.arange(0, v * (tau_max + 1)))\n",
    "    Adj_matrix = pd.DataFrame(index=linear_index, columns=var_names)\n",
    "    Adj_matrix[:] = np.inf\n",
    "\n",
    "    #Outer loop to indentify target variable\n",
    "    for i in range(v):\n",
    "\n",
    "        target = X[:, i]  #time series of target variable\n",
    "\n",
    "        # List of potnetial parents (All variables are considered, including lag=0)\n",
    "        parents = np.arange(0, v * (tau_max + 1))\n",
    "\n",
    "        if include_lagged_target:\n",
    "            # Remove only target variable from the pool of potential parents\n",
    "            parents = np.delete(parents, i)\n",
    "        else:\n",
    "            # Remove target variable and its lagged versions from the pool of potential parents\n",
    "            parents = np.delete(parents, np.arange(i, len(parents), v))\n",
    "\n",
    "        #Iterate over potential parents\n",
    "        for j in range(len(parents)):\n",
    "\n",
    "            idx = parents[j]  #linear index of parent\n",
    "\n",
    "            #time series of the source\n",
    "            #variable is given by the remainder idx%v\n",
    "            #lag is given by the quotient idx//v\n",
    "            source = hankel(X[:, idx % v])[:, idx // v]\n",
    "\n",
    "            # Construct the pool of conditioning variables Z\n",
    "            Z = np.copy(parents)\n",
    "            if include_lagged_source:\n",
    "                # Z = parents - source variable\n",
    "                removed = parents[j]\n",
    "            else:\n",
    "                # Z = parents - source variable - lagged versions of source variable\n",
    "                removed = np.arange(parents[j], v * (tau_max + 1), v)\n",
    "            Z = Z[Z != removed]\n",
    "\n",
    "            exit = 0\n",
    "\n",
    "            #Inner loop increase the size of conditioning set iteratively from 0 to len(Z)\n",
    "            for Nz in range(len(Z)):\n",
    "\n",
    "                # All possible combinations of size Nz that can be conditioned on\n",
    "                combinations = list(itertools.combinations(Z, Nz))\n",
    "\n",
    "                for k in range(len(combinations)):\n",
    "\n",
    "                    cond_set = np.ones([n, Nz])\n",
    "\n",
    "                    for ii in range(Nz):\n",
    "                        idx = combinations[k][ii]\n",
    "                        cond_set[:, ii] = hankel(X[:, idx % v])[:, idx // v]\n",
    "\n",
    "                    ### Run the conditional Independence test: I(target, sources, cond_set) ###\n",
    "\n",
    "                    print(str(i) + ', ' + str(parents[j]) + '; ' + '[' + str(combinations[k]) + ']')\n",
    "\n",
    "                    # Concatenate arrays by column in the order: target, sources, cond_set\n",
    "                    data = np.concatenate((target.reshape(n, 1), source.reshape(n, 1), cond_set), axis=1)\n",
    "                    data = pd.DataFrame(data, columns=list(range(data.shape[1])))\n",
    "\n",
    "                    # Partial correlation\n",
    "                    result = pg.partial_corr(data=data, x=0, y=1, covar=list(np.arange(2, data.shape[1]))\n",
    "                                             , method=corr_method).round(3)\n",
    "\n",
    "                    corr = result['r'][0]\n",
    "                    p_value = result['p-val'][0]\n",
    "\n",
    "                    if (p_value > a):\n",
    "                        Adj_matrix.iloc[parents[j], i] = np.nan  #no causal link exists\n",
    "                        exit = 1\n",
    "                        break\n",
    "                    elif (p_value <= a):\n",
    "                        I_min = min(Adj_matrix.iloc[parents[j], i], corr)\n",
    "                        Adj_matrix.iloc[parents[j], i] = I_min\n",
    "\n",
    "                if exit == 1:\n",
    "                    break\n",
    "\n",
    "    return Adj_matrix\n"
   ],
   "metadata": {
    "collapsed": false
   }
  }
 ],
 "metadata": {
  "kernelspec": {
   "display_name": "Python 3",
   "language": "python",
   "name": "python3"
  },
  "language_info": {
   "codemirror_mode": {
    "name": "ipython",
    "version": 2
   },
   "file_extension": ".py",
   "mimetype": "text/x-python",
   "name": "python",
   "nbconvert_exporter": "python",
   "pygments_lexer": "ipython2",
   "version": "2.7.6"
  }
 },
 "nbformat": 4,
 "nbformat_minor": 0
}
